{
  "nbformat": 4,
  "nbformat_minor": 0,
  "metadata": {
    "colab": {
      "provenance": [],
      "authorship_tag": "ABX9TyNPV7pBQZuS3wtKKPEgDLju",
      "include_colab_link": true
    },
    "kernelspec": {
      "name": "python3",
      "display_name": "Python 3"
    },
    "language_info": {
      "name": "python"
    }
  },
  "cells": [
    {
      "cell_type": "markdown",
      "metadata": {
        "id": "view-in-github",
        "colab_type": "text"
      },
      "source": [
        "<a href=\"https://colab.research.google.com/github/siriberman/Laboratorio6/blob/main/Laboratorio6Pyton.ipynb\" target=\"_parent\"><img src=\"https://colab.research.google.com/assets/colab-badge.svg\" alt=\"Open In Colab\"/></a>"
      ]
    },
    {
      "cell_type": "code",
      "execution_count": null,
      "metadata": {
        "id": "ZMFbdSCiZuFf"
      },
      "outputs": [],
      "source": []
    },
    {
      "cell_type": "markdown",
      "source": [],
      "metadata": {
        "id": "w2C_paCTZ2WT"
      }
    },
    {
      "cell_type": "code",
      "source": [
        "# Algoritmo en código\n",
        "agua_caliente = True\n",
        "bolsa_te = True\n",
        "if agua_caliente and bolsa_te:\n",
        " print(\"Coloca la bolsa de té en la taza\")\n",
        " print(\"Vierte el agua caliente en la taza\")\n",
        " print(\"Espera 3-5 minutos\")\n",
        " print(\"Retira la bolsa de té y disfruta\")\n",
        "else:\n",
        " print(\"No puedes preparar el té porque falta agua caliente o bolsa de té.\")\n"
      ],
      "metadata": {
        "colab": {
          "base_uri": "https://localhost:8080/"
        },
        "id": "Pa9WQXoEZ4zv",
        "outputId": "48544eae-2d6b-43eb-d310-6e6098070fb2"
      },
      "execution_count": 3,
      "outputs": [
        {
          "output_type": "stream",
          "name": "stdout",
          "text": [
            "Coloca la bolsa de té en la taza\n",
            "Vierte el agua caliente en la taza\n",
            "Espera 3-5 minutos\n",
            "Retira la bolsa de té y disfruta\n"
          ]
        }
      ]
    }
  ]
}